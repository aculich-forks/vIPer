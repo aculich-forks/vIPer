{
 "metadata": {
  "name": "Embed_Example"
 },
 "nbformat": 3,
 "nbformat_minor": 0,
 "worksheets": [
  {
   "cells": [
    {
     "cell_type": "heading",
     "level": 1,
     "metadata": {},
     "source": [
      "Example notebook into a slideshow"
     ]
    },
    {
     "cell_type": "markdown",
     "metadata": {},
     "source": [
      "You can embed ipython static views in this way:"
     ]
    },
    {
     "cell_type": "raw",
     "metadata": {},
     "source": [
      ".. raw:: html\n",
      "   :file: /home/damian/Desarrollos/vIPer/Example.html\n"
     ]
    }
   ],
   "metadata": {}
  }
 ]
}